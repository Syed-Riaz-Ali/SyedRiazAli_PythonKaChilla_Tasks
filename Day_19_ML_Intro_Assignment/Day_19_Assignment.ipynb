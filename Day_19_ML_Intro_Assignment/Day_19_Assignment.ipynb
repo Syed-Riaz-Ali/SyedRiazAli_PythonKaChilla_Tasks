{
 "cells": [
  {
   "cell_type": "markdown",
   "metadata": {},
   "source": [
    "### ***NAME : SYED RIAZ ALI***\n",
    "### ***EMAIL : syedriazali1997@gmail.com***\n",
    "### ***WHATSAPP : 0300-2502513***\n",
    "### ***MECHANICAL ENGINEER*** \n",
    "### ***DATA SCIENTIST (LOADING....)***"
   ]
  },
  {
   "cell_type": "markdown",
   "metadata": {},
   "source": [
    ">## ***Machine Learning***"
   ]
  },
  {
   "cell_type": "markdown",
   "metadata": {},
   "source": [
    "**Machine Learning** allows machine to learn and make decisions smartly. In machine learning data is given to model and then we divide the data into two sets one for training and one for testing and then we train the data with the training set and then perdict the unkown values.   "
   ]
  },
  {
   "cell_type": "markdown",
   "metadata": {},
   "source": [
    ">## ***Types of Machine Learning***"
   ]
  },
  {
   "cell_type": "markdown",
   "metadata": {},
   "source": [
    "There are 4 types of Machine Learning\n",
    "\n",
    "1. Supervised Machine Learning\n",
    "2. Unsupervised Machine Learning\n",
    "3. Semi-supervised Machine Learning\n",
    "4. Reinforcement Machine Learning"
   ]
  },
  {
   "cell_type": "markdown",
   "metadata": {},
   "source": [
    ">### ***1. Supervised Machine Learning***"
   ]
  },
  {
   "cell_type": "markdown",
   "metadata": {},
   "source": [
    "+ Works under supervision\n",
    "+ Teacher teaches\n",
    "+ Prediction\n",
    "+ Outcome\n",
    "  \n",
    "In this method we split 80% of the data for training and 20% of the data for testing.\n",
    "\n",
    "There are two types of Supervised Machine Learning\n",
    "+ Classification (For Categories)\n",
    "+ Regression (For Numerical Data)"
   ]
  },
  {
   "cell_type": "markdown",
   "metadata": {},
   "source": [
    "> #### ***Supervised Machine Learning Algorithms***"
   ]
  },
  {
   "cell_type": "markdown",
   "metadata": {},
   "source": [
    "##### ***1. Logistic Regression***\n",
    "\n",
    " Logistic regression is used to describe data and to explain the relationship between one dependent binary variable and one or more nominal, ordinal, interval or ratio-level independent variables."
   ]
  },
  {
   "cell_type": "markdown",
   "metadata": {},
   "source": [
    "##### ***2. K-Nearest Neighbors (K-NN)***\n",
    "\n",
    "K-NN is a type of classification where the function is only approximated locally and all computation is deferred until function evaluation. Since this algorithm relies on distance for classification, if the features represent different physical units or come in vastly different scales then normalizing the training data can improve its accuracy dramatically"
   ]
  },
  {
   "cell_type": "markdown",
   "metadata": {},
   "source": [
    "##### ***3. Support Vector Machine (SVM)***\n",
    "\n",
    "SVM is a supervised training algorithm that can be useful for the purpose of classification and regression. SVM can be used to analyze data for classification and regression using algorithms and kernels in SVM. Support vector classification (SVC) also is an algorithm that searches for the optimal separating surface."
   ]
  },
  {
   "cell_type": "markdown",
   "metadata": {},
   "source": [
    "##### ***4. Kernel SVM***\n",
    "\n",
    "In machine learning kernel machines are a class of algorithms for pattern analysis, whose best known member is the support vector machine (SVM). The general task of this analysis is to find and study general types of relations (for example clusters, rankings, principal components, correlations, classifications) in datasets. "
   ]
  },
  {
   "cell_type": "markdown",
   "metadata": {},
   "source": [
    "##### ***5. Naive Bayes***\n",
    "\n",
    "Naive Bayes is a simple technique for constructing classifiers models that assign class labels to problem instances, represented as vectors of feature values, where the class labels are drawn from some finite set. There is not a single algorithm for training such classifiers, but a family of algorithms based on a common principle, all naive Bayes classifiers assume that the value of a particular feature is independent of the value of any other feature."
   ]
  },
  {
   "cell_type": "markdown",
   "metadata": {},
   "source": [
    "##### ***6. Decision Tree Classification***\n",
    "\n",
    "Decision tree builds classification or regression models in the form of a tree structure. It breaks down a dataset into smaller and smaller subsets while at the same time an associated decision tree is incrementally developed. Decision trees can handle both categorical and numerical data. "
   ]
  },
  {
   "cell_type": "markdown",
   "metadata": {},
   "source": [
    "##### ***7. Random Forest Classification***\n",
    "\n",
    "Random forests or random decision forests are an ensemble learning method for classification, regression and other tasks that operates by constructing a multitude of decision trees at training time. Random forests are frequently used as \"blackbox\" models in businesses, as they generate reasonable predictions across a wide range of data while requiring little configuration."
   ]
  },
  {
   "cell_type": "markdown",
   "metadata": {},
   "source": [
    ">### ***2. Unsupervised Machine Learning/ Clustering***"
   ]
  },
  {
   "cell_type": "markdown",
   "metadata": {},
   "source": [
    "+ No supervision\n",
    "+ No Teacher\n",
    "+ Self learning\n",
    "+ No labeling of data\n",
    "+ Find patterns by itself\n",
    "  \n",
    "In this method we donot give data for training, we give all of the data for testing of the model\n"
   ]
  },
  {
   "cell_type": "markdown",
   "metadata": {},
   "source": [
    "> #### ***Unsupervised Machine Learning Algorithms***"
   ]
  },
  {
   "cell_type": "markdown",
   "metadata": {},
   "source": [
    "##### ***1. K-Mean Clustering***\n",
    "\n",
    "k-means clustering is a method of vector quantization, originally from signal processing, that aims to partition n observations into k clusters in which each observation belongs to the cluster with the nearest mean (cluster centers or cluster centroid) serving as a prototype of the cluster."
   ]
  },
  {
   "cell_type": "markdown",
   "metadata": {},
   "source": [
    "##### ***2. Hierarchical Clustering***\n",
    "\n",
    "Hierarchical clustering, also known as hierarchical cluster analysis, is an algorithm that groups similar objects into groups called clusters. The endpoint is a set of clusters, where each cluster is distinct from each other cluster, and the objects within each cluster are broadly similar to each other."
   ]
  },
  {
   "cell_type": "markdown",
   "metadata": {},
   "source": [
    "##### ***3. Probabilistic Clustering***\n",
    "\n",
    "In a Probablistic formulation of a clustering procedure, the partition of items into subsets becomes a parameter of a probability model for the data, subject to prior assumptions, and inference about the clustering derives from properties of the posterior distribution."
   ]
  },
  {
   "cell_type": "markdown",
   "metadata": {},
   "source": [
    ">### ***3. Semisupervised Machine Learning***"
   ]
  },
  {
   "cell_type": "markdown",
   "metadata": {},
   "source": [
    "+ Mixture of supervised and unsupervised Machine Learning\n",
    "+ Some data is labelled most is not"
   ]
  },
  {
   "cell_type": "markdown",
   "metadata": {},
   "source": [
    ">### ***4. Reinforcement Machine Learning***"
   ]
  },
  {
   "cell_type": "markdown",
   "metadata": {},
   "source": [
    "+ Hit and Trial Learning\n",
    "+ Learn from mistakes\n",
    "+ Reward and punishment rule\n",
    "+ Prediction based on reward and punishment\n",
    "+ Depends on feedback"
   ]
  },
  {
   "cell_type": "markdown",
   "metadata": {},
   "source": [
    "> #### ***Reinforcement Learning Algorithms***"
   ]
  },
  {
   "cell_type": "markdown",
   "metadata": {},
   "source": [
    "##### ***1. Model Free Reinforcement Learning***\n",
    "\n",
    "A simple algorithm can be written to basically, ensure that when load is greater than the effort, the fulcrum moves leftward and if otherwise, it moves right. This kind of system is, model-free because it requires no form of machine learning model to achieve stability."
   ]
  },
  {
   "cell_type": "markdown",
   "metadata": {},
   "source": [
    "##### Policy Optimization \n",
    "\n",
    "Policy optimization is an effective reinforcement learning approach to solve continuous control tasks. In a policy-based RL method, you try to come up with such a policy that the action performed in every state helps you to gain maximum reward in the future.\n",
    "##### Q learning\n",
    "\n",
    "Q-learning is a model-free reinforcement learning algorithm to learn the value of an action in a particular state. It does not require a model of the environment (hence \"model-free\"), and it can handle problems with stochastic transitions and rewards without requiring adaptations."
   ]
  },
  {
   "cell_type": "markdown",
   "metadata": {},
   "source": [
    "##### ***1. Model Based Reinforcement Learning***\n",
    "\n",
    "In a model-based RL environment, the policy is based on the use of a machine learning model. To better understand RL Systems, what defines the system is the policy network. Knowing fully well that the policy is an algorithm that decides the action of an agent."
   ]
  },
  {
   "cell_type": "markdown",
   "metadata": {},
   "source": [
    "##### Learn the Model\n",
    "\n",
    "It refers to learning optimal behavior indirectly by learning a model of the environment by taking actions and observing the outcomes that include the next state and the immediate reward.\n",
    "\n",
    "#### Given the Model\n",
    "  "
   ]
  },
  {
   "cell_type": "code",
   "execution_count": null,
   "metadata": {},
   "outputs": [],
   "source": []
  }
 ],
 "metadata": {
  "kernelspec": {
   "display_name": "Python 3",
   "language": "python",
   "name": "python3"
  },
  "language_info": {
   "codemirror_mode": {
    "name": "ipython",
    "version": 3
   },
   "file_extension": ".py",
   "mimetype": "text/x-python",
   "name": "python",
   "nbconvert_exporter": "python",
   "pygments_lexer": "ipython3",
   "version": "3.8.8"
  }
 },
 "nbformat": 4,
 "nbformat_minor": 2
}
