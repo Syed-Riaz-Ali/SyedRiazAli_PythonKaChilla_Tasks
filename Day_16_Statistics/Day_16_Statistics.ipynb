{
 "cells": [
  {
   "cell_type": "markdown",
   "metadata": {},
   "source": [
    ">## ***Types of Statistical Test***\n",
    "\n",
    "There are 2 types of tests\n",
    "1. Parametric test\n",
    "2. Non parametric test"
   ]
  },
  {
   "cell_type": "markdown",
   "metadata": {},
   "source": [
    ">### ***1. Parametric Test***\n",
    "\n",
    "Parametric tests are used only where a normal distribution is assumed. The most widely used tests are the t-test (paired or unpaired), ANOVA (one-way non-repeated, repeated; two-way, three-way), linear regression and Pearson rank correlation.\n",
    "\n",
    "Parametric test give more reliable results"
   ]
  },
  {
   "cell_type": "markdown",
   "metadata": {},
   "source": [
    ">### ***2. Non parametric test***\n",
    "\n",
    "Non-parametric tests are used when continuous data are not normally distributed or when dealing with discrete variables. Most widely used are chi-squared, Fisher's exact tests, Wilcoxon's matched pairs, Mann–Whitney U-tests, Kruskal–Wallis tests and Spearman rank correlation.\n",
    "\n",
    "It gives less relaible reults"
   ]
  },
  {
   "cell_type": "markdown",
   "metadata": {},
   "source": [
    "> ## ***Steps before doing Data Analysis***"
   ]
  },
  {
   "cell_type": "markdown",
   "metadata": {},
   "source": [
    ">### ***Step-1 : Normality Test***\n",
    "\n",
    "In statistics, normality tests are used to determine if a data set is well-modeled by a normal distribution and to compute how likely it is for a random variable underlying the data set to be normally distributed.\n",
    "\n",
    "There are two tests used for normality test\n",
    "\n",
    "1. Shapiro-Wilk test (Reliable)\n",
    "2. Kolmogorov-Smirnov Test (Less reliable)"
   ]
  },
  {
   "cell_type": "markdown",
   "metadata": {},
   "source": [
    "> ### ***Step-2 : Homogeneity Test***\n",
    "\n",
    "This test determines if two or more populations (or subgroups of a population) have the same distribution of a single categorical variable.\n",
    "\n",
    "Levene's test is used to conduct this homogeneity test"
   ]
  },
  {
   "cell_type": "markdown",
   "metadata": {},
   "source": [
    "> ### ***Step-3 : Purpose Test***"
   ]
  },
  {
   "cell_type": "markdown",
   "metadata": {},
   "source": [
    "There are two types of purpose (knowing the purpose of your research question)\n",
    "\n",
    "1. Comparison (Between two sets of variables)\n",
    "2. Relationship (Correlation, Connection)"
   ]
  },
  {
   "cell_type": "markdown",
   "metadata": {},
   "source": [
    "> ### ***Step-4 : Data Type***\n",
    ">\n",
    "> Knowing the data type you are working with"
   ]
  },
  {
   "cell_type": "markdown",
   "metadata": {},
   "source": [
    "There are two types of data\n",
    "1. Categorical Variable\n",
    "2. Continuous Variable"
   ]
  },
  {
   "cell_type": "markdown",
   "metadata": {},
   "source": [
    ">#### ***1. Categorical Data***"
   ]
  },
  {
   "cell_type": "markdown",
   "metadata": {},
   "source": [
    "* Qualitative \n",
    "* Not numerical data \n",
    "* Represented in text \n",
    "* For example : Sex (Male, Female)"
   ]
  },
  {
   "cell_type": "markdown",
   "metadata": {},
   "source": [
    ">#### ***2. Continuous Data***"
   ]
  },
  {
   "cell_type": "markdown",
   "metadata": {},
   "source": [
    "* Quantitative\n",
    "* Numerical Data\n",
    "* Not represented in text\n",
    "* For Example : Age of individual"
   ]
  },
  {
   "cell_type": "markdown",
   "metadata": {},
   "source": [
    "> ### ***Step-5 : Statistical Tests***"
   ]
  },
  {
   "cell_type": "markdown",
   "metadata": {},
   "source": [
    "There are three main families of statistical data\n",
    "\n",
    "1. Chi - Squared\n",
    "2. t-test / ANOVA\n",
    "3. Correlation"
   ]
  },
  {
   "cell_type": "markdown",
   "metadata": {},
   "source": [
    "|***Statistical Data***|***Purpose***|***Data***|\n",
    "|------|-------|-------|\n",
    "|Chi - Squared| Comparison | Categorical only |\n",
    "|t-test/ ANOVA| Comparison | Categorical and Continuous|\n",
    "|Correlation| Relationship | Continuous only |"
   ]
  },
  {
   "cell_type": "markdown",
   "metadata": {},
   "source": [
    ">#### ***1. Chi-Squared test***"
   ]
  },
  {
   "cell_type": "markdown",
   "metadata": {},
   "source": [
    "A chi-square measures how a model compares to actual observed data. \n",
    "\n",
    "There are two types of Chi-squared test\n",
    "\n",
    "1. Chi - squared test of homogeneity\n",
    "2. Chi - squared test of Independence"
   ]
  },
  {
   "cell_type": "markdown",
   "metadata": {},
   "source": [
    ">#### ***2. t-test/ ANOVA***"
   ]
  },
  {
   "cell_type": "markdown",
   "metadata": {},
   "source": [
    "An ANOVA test is a way to find out if survey or experiment results are significant. In other words, they help you to figure out if you need to reject the null hypothesis or accept the alternate hypothesis.\n",
    "\n",
    "Basically, you’re testing groups to see if there’s a difference between them. Examples of when you might want to test different groups:\n",
    "\n",
    "A group of psychiatric patients are trying three different therapies: counseling, medication and biofeedback. You want to see if one therapy is better than the others.\n",
    "A manufacturer has two different processes to make light bulbs. They want to know if one process is better than the other.\n",
    "Students from different colleges take the same exam. You want to see if one college outperforms the other.\n",
    "\n",
    "There are different types of ANOVA tests which are as follows\n",
    "\n",
    "1. ANOVA (Analysis of Variance)\n",
    "     1. One-way ANOVA\n",
    "     2. Two-way ANOVA\n",
    "     3. Repeated measures of ANOVA\n",
    "2. ANCOVA (Analysis of Covariance)\n",
    "3. MANOVA (Multi-variate analysis of Variance)\n",
    "4. MANCOVA (Multi-variate analysis of Covariance)"
   ]
  },
  {
   "cell_type": "markdown",
   "metadata": {},
   "source": [
    "> ***ANCOVA***\n",
    ">\n",
    ">ANCOVA is a blend of analysis of variance (ANOVA) and regression. It is similar to factorial ANOVA, in that it can tell you what additional information you can get by considering one independent variable (factor) at a time, without the influence of the other"
   ]
  },
  {
   "cell_type": "markdown",
   "metadata": {},
   "source": [
    "> ***MANOVA***\n",
    ">\n",
    ">Multivariate analysis of variance (MANOVA) is an extension of the univariate analysis of variance (ANOVA).  In an ANOVA, we examine for statistical differences on one continuous dependent variable by an independent grouping variable.  The MANOVA extends this analysis by taking into account multiple continuous dependent variables, and bundles them together into a weighted linear combination or composite variable.  The MANOVA will compare whether or not the newly created combination differs by the different groups, or levels, of the independent variable.  In this way, the MANOVA essentially tests whether or not the independent grouping variable simultaneously explains a statistically significant amount of variance in the dependent variable."
   ]
  },
  {
   "cell_type": "markdown",
   "metadata": {},
   "source": [
    ">***MANCOVA***\n",
    ">\n",
    ">Multivariate analysis of covariance (MANCOVA) is a statistical technique that is the extension of analysis of covariance (ANCOVA).  Basically, it is the multivariate analysis of variance (MANOVA) with a covariate(s).).  In MANCOVA, we assess for statistical differences on multiple continuous dependent variables by an independent grouping variable, while controlling for a third variable called the covariate; multiple covariates can be used, depending on the sample size.  Covariates are added so that it can reduce error terms and so that the analysis eliminates the covariates’ effect on the relationship between the independent grouping variable and the continuous dependent variables."
   ]
  },
  {
   "cell_type": "markdown",
   "metadata": {},
   "source": [
    ">#### ***3. Correlation test***"
   ]
  },
  {
   "cell_type": "markdown",
   "metadata": {},
   "source": [
    "Correlation test is used to evaluate the association between two or more variables. For instance, if we are interested to know whether there is a relationship between the heights of fathers and sons, a correlation coefficient can be calculated to answer this question.\n",
    "\n",
    "There are two types of correlation test\n",
    "\n",
    "1. Pearson's Correlation (One independent and one dependent variable - Its tells us how closely two variables are connected togather)\n",
    "2. Regression (One independent and one dependent variable - It describes the relation with a mathematical equation)"
   ]
  }
 ],
 "metadata": {
  "kernelspec": {
   "display_name": "Python 3",
   "language": "python",
   "name": "python3"
  },
  "language_info": {
   "codemirror_mode": {
    "name": "ipython",
    "version": 3
   },
   "file_extension": ".py",
   "mimetype": "text/x-python",
   "name": "python",
   "nbconvert_exporter": "python",
   "pygments_lexer": "ipython3",
   "version": "3.8.8"
  }
 },
 "nbformat": 4,
 "nbformat_minor": 2
}
