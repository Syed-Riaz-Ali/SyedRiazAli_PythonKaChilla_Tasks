{
 "cells": [
  {
   "cell_type": "markdown",
   "id": "4a8d69d4",
   "metadata": {},
   "source": [
    "# Numpy Library\n",
    "\n",
    "- Numpy stands for Numerical Python\n",
    "\n",
    "- It aims to provide an array object which is 50x faster than traditional python list.\n",
    "\n",
    "- The array object in Numpy is called \"ndarray\"\n",
    "\n",
    "# But Why Numpy is faster than Lists ?\n",
    "\n",
    "- Numpy arrays are stored at one continuous place in memory unlike lists, so processes can access and manipulate them very efficiently.\n",
    "\n",
    "- This is behavior is called locality of reference in computer science."
   ]
  },
  {
   "cell_type": "markdown",
   "id": "a5661fd8",
   "metadata": {},
   "source": [
    "# First Line of Code in Numpy\n",
    "\n",
    "- Making a simple array "
   ]
  },
  {
   "cell_type": "code",
   "execution_count": 1,
   "id": "aafd330e",
   "metadata": {},
   "outputs": [
    {
     "data": {
      "text/plain": [
       "array([1, 2, 3, 4, 5])"
      ]
     },
     "execution_count": 1,
     "metadata": {},
     "output_type": "execute_result"
    }
   ],
   "source": [
    "# Importing Numpy library\n",
    "\n",
    "import numpy as np\n",
    "\n",
    "# Fist numpy code: Making an array\n",
    "\n",
    "arr = np.array([1,2,3,4,5])\n",
    "arr\n"
   ]
  },
  {
   "cell_type": "code",
   "execution_count": 2,
   "id": "d0bb2775",
   "metadata": {},
   "outputs": [
    {
     "data": {
      "text/plain": [
       "numpy.ndarray"
      ]
     },
     "execution_count": 2,
     "metadata": {},
     "output_type": "execute_result"
    }
   ],
   "source": [
    "# Checking the type of array\n",
    "\n",
    "type(arr)"
   ]
  },
  {
   "cell_type": "markdown",
   "id": "8f8e04fa",
   "metadata": {},
   "source": [
    "# Dimensions In Array\n",
    "\n",
    " There are 4 dimensions of an array\n",
    " - 0-D (Scalars)\n",
    " - 1-D (Vectors)\n",
    " - 2-D (Tensors)\n",
    " - 3-D (Tensors)"
   ]
  },
  {
   "cell_type": "markdown",
   "id": "3b849cad",
   "metadata": {},
   "source": [
    "# 0-D Array"
   ]
  },
  {
   "cell_type": "code",
   "execution_count": 3,
   "id": "783a391b",
   "metadata": {},
   "outputs": [
    {
     "data": {
      "text/plain": [
       "array(21)"
      ]
     },
     "execution_count": 3,
     "metadata": {},
     "output_type": "execute_result"
    }
   ],
   "source": [
    "arr_0_D = np.array(21)\n",
    "arr_0_D"
   ]
  },
  {
   "cell_type": "markdown",
   "id": "86250cd5",
   "metadata": {},
   "source": [
    "# 1-D Array"
   ]
  },
  {
   "cell_type": "code",
   "execution_count": 4,
   "id": "b19f018f",
   "metadata": {},
   "outputs": [
    {
     "data": {
      "text/plain": [
       "array([1, 2, 3, 4, 5])"
      ]
     },
     "execution_count": 4,
     "metadata": {},
     "output_type": "execute_result"
    }
   ],
   "source": [
    "arr_1_D = np.array([1,2,3,4,5])\n",
    "arr_1_D"
   ]
  },
  {
   "cell_type": "markdown",
   "id": "8e7a1954",
   "metadata": {},
   "source": [
    "# 2-D Array"
   ]
  },
  {
   "cell_type": "code",
   "execution_count": 5,
   "id": "8cf8f416",
   "metadata": {},
   "outputs": [
    {
     "data": {
      "text/plain": [
       "array([[1, 3, 5],\n",
       "       [2, 4, 6]])"
      ]
     },
     "execution_count": 5,
     "metadata": {},
     "output_type": "execute_result"
    }
   ],
   "source": [
    "arr_2_D = np.array([[1,3,5],[2,4,6]])\n",
    "arr_2_D"
   ]
  },
  {
   "cell_type": "markdown",
   "id": "128aa5fa",
   "metadata": {},
   "source": [
    "# 3-D Array"
   ]
  },
  {
   "cell_type": "code",
   "execution_count": 6,
   "id": "5b82fe85",
   "metadata": {},
   "outputs": [
    {
     "data": {
      "text/plain": [
       "array([[[ 1,  3,  5],\n",
       "        [ 2,  4,  6]],\n",
       "\n",
       "       [[ 7,  9, 11],\n",
       "        [ 8, 10, 12]]])"
      ]
     },
     "execution_count": 6,
     "metadata": {},
     "output_type": "execute_result"
    }
   ],
   "source": [
    "arr_3_D = np.array([[[1,3,5],[2,4,6]],[[7,9,11],[8,10,12]]])\n",
    "arr_3_D"
   ]
  },
  {
   "cell_type": "markdown",
   "id": "4c75d18a",
   "metadata": {},
   "source": [
    "# Checking Number of Dimensions of above Arrays"
   ]
  },
  {
   "cell_type": "code",
   "execution_count": 7,
   "id": "8f4855cb",
   "metadata": {},
   "outputs": [
    {
     "data": {
      "text/plain": [
       "3"
      ]
     },
     "execution_count": 7,
     "metadata": {},
     "output_type": "execute_result"
    }
   ],
   "source": [
    "arr_0_D.ndim"
   ]
  },
  {
   "cell_type": "code",
   "execution_count": 8,
   "id": "22cff785",
   "metadata": {},
   "outputs": [
    {
     "data": {
      "text/plain": [
       "1"
      ]
     },
     "execution_count": 8,
     "metadata": {},
     "output_type": "execute_result"
    }
   ],
   "source": [
    "arr_1_D.ndim"
   ]
  },
  {
   "cell_type": "code",
   "execution_count": 9,
   "id": "eddccbd1",
   "metadata": {},
   "outputs": [
    {
     "data": {
      "text/plain": [
       "2"
      ]
     },
     "execution_count": 9,
     "metadata": {},
     "output_type": "execute_result"
    }
   ],
   "source": [
    "arr_2_D.ndim"
   ]
  },
  {
   "cell_type": "code",
   "execution_count": 10,
   "id": "e550b9ad",
   "metadata": {},
   "outputs": [
    {
     "data": {
      "text/plain": [
       "3"
      ]
     },
     "execution_count": 10,
     "metadata": {},
     "output_type": "execute_result"
    }
   ],
   "source": [
    "arr_3_D.ndim"
   ]
  },
  {
   "cell_type": "markdown",
   "id": "77ce8d46",
   "metadata": {},
   "source": [
    "# Checking the Shape of the array"
   ]
  },
  {
   "cell_type": "code",
   "execution_count": 7,
   "id": "f1a2fb08",
   "metadata": {},
   "outputs": [
    {
     "data": {
      "text/plain": [
       "()"
      ]
     },
     "execution_count": 7,
     "metadata": {},
     "output_type": "execute_result"
    }
   ],
   "source": [
    "import numpy as np\n",
    "\n",
    "# Finding the Shape of 0-D array which is a scalar quantity\n",
    "arr_0_D = np.array(21)\n",
    "arr_0_D.shape"
   ]
  },
  {
   "cell_type": "code",
   "execution_count": 8,
   "id": "edddc8b9",
   "metadata": {},
   "outputs": [
    {
     "data": {
      "text/plain": [
       "(5,)"
      ]
     },
     "execution_count": 8,
     "metadata": {},
     "output_type": "execute_result"
    }
   ],
   "source": [
    "# Finding the Shape of 1-D array\n",
    "arr_1_D = np.array([1,2,3,4,5])\n",
    "arr_1_D.shape"
   ]
  },
  {
   "cell_type": "markdown",
   "id": "34461b80",
   "metadata": {},
   "source": [
    "In the above the arr_1_D.shape command returns the output of (5,) which shows that it has 5 rows and no columns"
   ]
  },
  {
   "cell_type": "code",
   "execution_count": 10,
   "id": "0556001c",
   "metadata": {},
   "outputs": [
    {
     "data": {
      "text/plain": [
       "(2, 3)"
      ]
     },
     "execution_count": 10,
     "metadata": {},
     "output_type": "execute_result"
    }
   ],
   "source": [
    "# Finding the Shape of 2-D array\n",
    "arr_2_D = np.array([[1,3,5],[2,4,6]])\n",
    "arr_2_D.shape"
   ]
  },
  {
   "cell_type": "markdown",
   "id": "0c2df81a",
   "metadata": {},
   "source": [
    "The above array is a matrix of 2 rows & 3 columns"
   ]
  },
  {
   "cell_type": "code",
   "execution_count": 11,
   "id": "144d7277",
   "metadata": {},
   "outputs": [
    {
     "data": {
      "text/plain": [
       "(2, 2, 3)"
      ]
     },
     "execution_count": 11,
     "metadata": {},
     "output_type": "execute_result"
    }
   ],
   "source": [
    "# Finding the Shape of 3-D array\n",
    "arr_3_D = np.array([[[1,3,5],[2,4,6]],[[7,9,11],[8,10,12]]])\n",
    "arr_3_D.shape"
   ]
  },
  {
   "cell_type": "markdown",
   "id": "feb0da28",
   "metadata": {},
   "source": [
    "This shows that in 3-D array we have 2 2-D arrays which has the shape of 2 rows & 3 columns.\n",
    "\n",
    "Hence, for further understanging (2,2,3) is just like (How many 2_D arrays are there, rows , columns)"
   ]
  },
  {
   "cell_type": "markdown",
   "id": "f20d3b56",
   "metadata": {},
   "source": [
    "# Other methods of creating arrays\n",
    "\n",
    "- zeros method\n",
    "- ones method\n",
    "- empty method\n",
    "- linspace method\n",
    "- arange method"
   ]
  },
  {
   "cell_type": "markdown",
   "id": "8a2b9177",
   "metadata": {},
   "source": [
    "# Arrays from zeros method"
   ]
  },
  {
   "cell_type": "code",
   "execution_count": 12,
   "id": "1e136a47",
   "metadata": {},
   "outputs": [
    {
     "data": {
      "text/plain": [
       "array([0., 0., 0., 0., 0.])"
      ]
     },
     "execution_count": 12,
     "metadata": {},
     "output_type": "execute_result"
    }
   ],
   "source": [
    "# 1-D array of zero\n",
    "arr = np.zeros(5)\n",
    "arr"
   ]
  },
  {
   "cell_type": "code",
   "execution_count": 13,
   "id": "0dd517b8",
   "metadata": {},
   "outputs": [
    {
     "data": {
      "text/plain": [
       "array([[0., 0., 0.],\n",
       "       [0., 0., 0.]])"
      ]
     },
     "execution_count": 13,
     "metadata": {},
     "output_type": "execute_result"
    }
   ],
   "source": [
    "# 2-D array of zero\n",
    "arr = np.zeros((2,3))\n",
    "arr"
   ]
  },
  {
   "cell_type": "code",
   "execution_count": 15,
   "id": "a582ee27",
   "metadata": {},
   "outputs": [
    {
     "data": {
      "text/plain": [
       "array([[[0., 0., 0.],\n",
       "        [0., 0., 0.],\n",
       "        [0., 0., 0.]],\n",
       "\n",
       "       [[0., 0., 0.],\n",
       "        [0., 0., 0.],\n",
       "        [0., 0., 0.]]])"
      ]
     },
     "execution_count": 15,
     "metadata": {},
     "output_type": "execute_result"
    }
   ],
   "source": [
    "# 3-D array of zero\n",
    "arr = np.zeros((2,3,3))\n",
    "arr"
   ]
  },
  {
   "cell_type": "markdown",
   "id": "2b29a972",
   "metadata": {},
   "source": [
    "# Arrays from ones method"
   ]
  },
  {
   "cell_type": "code",
   "execution_count": 16,
   "id": "56757738",
   "metadata": {},
   "outputs": [
    {
     "data": {
      "text/plain": [
       "array([[[1., 1., 1.],\n",
       "        [1., 1., 1.]],\n",
       "\n",
       "       [[1., 1., 1.],\n",
       "        [1., 1., 1.]],\n",
       "\n",
       "       [[1., 1., 1.],\n",
       "        [1., 1., 1.]]])"
      ]
     },
     "execution_count": 16,
     "metadata": {},
     "output_type": "execute_result"
    }
   ],
   "source": [
    "# Creating 3-D array of ones\n",
    "arr = np.ones((3,2,3))\n",
    "arr"
   ]
  },
  {
   "cell_type": "markdown",
   "id": "7a5380c9",
   "metadata": {},
   "source": [
    "# Array from empty method"
   ]
  },
  {
   "cell_type": "code",
   "execution_count": 17,
   "id": "e3ad80d3",
   "metadata": {},
   "outputs": [
    {
     "data": {
      "text/plain": [
       "array([[ 0.00000000e+000,  0.00000000e+000,  0.00000000e+000],\n",
       "       [ 0.00000000e+000,  0.00000000e+000,  5.47424736e-321],\n",
       "       [-2.95504102e+003,  4.24399158e-314,  1.90979621e-313]])"
      ]
     },
     "execution_count": 17,
     "metadata": {},
     "output_type": "execute_result"
    }
   ],
   "source": [
    "# Creating 2-D empty array\n",
    "arr = np.empty((3,3))\n",
    "arr"
   ]
  },
  {
   "cell_type": "code",
   "execution_count": 19,
   "id": "bbe69067",
   "metadata": {},
   "outputs": [
    {
     "data": {
      "text/plain": [
       "dtype('float64')"
      ]
     },
     "execution_count": 19,
     "metadata": {},
     "output_type": "execute_result"
    }
   ],
   "source": [
    "arr.dtype"
   ]
  },
  {
   "cell_type": "markdown",
   "id": "3fc809cd",
   "metadata": {},
   "source": [
    "This empty method jus gives \"garbage\" values randomly which are not initialized"
   ]
  },
  {
   "cell_type": "markdown",
   "id": "234ea15a",
   "metadata": {},
   "source": [
    "# Array from linspace method\n",
    "\n",
    "This linspace gives an array of required number within a range given by you."
   ]
  },
  {
   "cell_type": "code",
   "execution_count": 20,
   "id": "d0fd4977",
   "metadata": {},
   "outputs": [
    {
     "data": {
      "text/plain": [
       "array([ 2.,  4.,  6.,  8., 10., 12., 14., 16., 18., 20.])"
      ]
     },
     "execution_count": 20,
     "metadata": {},
     "output_type": "execute_result"
    }
   ],
   "source": [
    "arr = np.linspace(2,20, num=10)\n",
    "arr"
   ]
  },
  {
   "cell_type": "code",
   "execution_count": 21,
   "id": "0b9d44bc",
   "metadata": {},
   "outputs": [
    {
     "data": {
      "text/plain": [
       "array([ 1. ,  2.5,  4. ,  5.5,  7. ,  8.5, 10. ])"
      ]
     },
     "execution_count": 21,
     "metadata": {},
     "output_type": "execute_result"
    }
   ],
   "source": [
    "arr = np.linspace(1,10, num=7)\n",
    "arr"
   ]
  },
  {
   "cell_type": "markdown",
   "id": "be4f80f3",
   "metadata": {},
   "source": [
    "The above arrays are 1-D arrays. Now below are the methods to create 2-D & 3-D arrays from linspace method."
   ]
  },
  {
   "cell_type": "code",
   "execution_count": 26,
   "id": "3e8738bb",
   "metadata": {},
   "outputs": [
    {
     "data": {
      "text/plain": [
       "array([[ 1.,  2.],\n",
       "       [ 2.,  4.],\n",
       "       [ 3.,  6.],\n",
       "       [ 4.,  8.],\n",
       "       [ 5., 10.],\n",
       "       [ 6., 12.],\n",
       "       [ 7., 14.],\n",
       "       [ 8., 16.],\n",
       "       [ 9., 18.],\n",
       "       [10., 20.]])"
      ]
     },
     "execution_count": 26,
     "metadata": {},
     "output_type": "execute_result"
    }
   ],
   "source": [
    "# Creating a 2-D array is not so simple \n",
    "\n",
    "# For the first column: From 1 of (1,2) to 10 of (10,20), put the increasing 10 numbers.\n",
    "# For the second column: From 2 of (1,2) to 20 of (10,20), put the incresing 10 numbers.\n",
    "\n",
    "arr = np.linspace((1,2),(10,20),10)\n",
    "arr"
   ]
  },
  {
   "cell_type": "markdown",
   "id": "f5937976",
   "metadata": {},
   "source": [
    "# Sorry Sir I can't Find a way to create a 3D array using linspace"
   ]
  },
  {
   "cell_type": "markdown",
   "id": "28e29f8d",
   "metadata": {},
   "source": [
    "# Array from arange method"
   ]
  },
  {
   "cell_type": "code",
   "execution_count": 35,
   "id": "966e88f1",
   "metadata": {},
   "outputs": [
    {
     "data": {
      "text/plain": [
       "array([0, 1, 2, 3, 4])"
      ]
     },
     "execution_count": 35,
     "metadata": {},
     "output_type": "execute_result"
    }
   ],
   "source": [
    "arr = np.arange(5)\n",
    "arr"
   ]
  },
  {
   "cell_type": "code",
   "execution_count": 42,
   "id": "94f81946",
   "metadata": {},
   "outputs": [
    {
     "data": {
      "text/plain": [
       "array([[0, 1, 2],\n",
       "       [3, 4, 5],\n",
       "       [6, 7, 8]])"
      ]
     },
     "execution_count": 42,
     "metadata": {},
     "output_type": "execute_result"
    }
   ],
   "source": [
    "# To create a 2-D array using arange method we have to use a combine formation of arange & reshape function\n",
    "\n",
    "# But in this we have to focus on the inputs which we are giving\n",
    "\n",
    "# In parantheses of arange function we have to give a value which is a product of rows & columns of reshape function.\n",
    "\n",
    "arr = np.arange(9).reshape(3,3)\n",
    "arr"
   ]
  },
  {
   "cell_type": "code",
   "execution_count": 51,
   "id": "c1f015a3",
   "metadata": {},
   "outputs": [
    {
     "data": {
      "text/plain": [
       "array([[ 3,  6,  9],\n",
       "       [12, 15, 18],\n",
       "       [21, 24, 27]])"
      ]
     },
     "execution_count": 51,
     "metadata": {},
     "output_type": "execute_result"
    }
   ],
   "source": [
    "arr = np.arange(3,30,step=3).reshape(3,3)\n",
    "arr"
   ]
  },
  {
   "cell_type": "code",
   "execution_count": 53,
   "id": "c6dd33b5",
   "metadata": {},
   "outputs": [
    {
     "data": {
      "text/plain": [
       "array([[[ 0,  1,  2],\n",
       "        [ 3,  4,  5],\n",
       "        [ 6,  7,  8]],\n",
       "\n",
       "       [[ 9, 10, 11],\n",
       "        [12, 13, 14],\n",
       "        [15, 16, 17]],\n",
       "\n",
       "       [[18, 19, 20],\n",
       "        [21, 22, 23],\n",
       "        [24, 25, 26]]])"
      ]
     },
     "execution_count": 53,
     "metadata": {},
     "output_type": "execute_result"
    }
   ],
   "source": [
    "# Creating a 3D array using arange & reshape function\n",
    "\n",
    "arr = np.arange(27).reshape(3,3,3)\n"
   ]
  },
  {
   "cell_type": "code",
   "execution_count": 57,
   "id": "59112023",
   "metadata": {},
   "outputs": [
    {
     "data": {
      "text/plain": [
       "array([[[ 3,  6,  9],\n",
       "        [12, 15, 18],\n",
       "        [21, 24, 27]],\n",
       "\n",
       "       [[30, 33, 36],\n",
       "        [39, 42, 45],\n",
       "        [48, 51, 54]],\n",
       "\n",
       "       [[57, 60, 63],\n",
       "        [66, 69, 72],\n",
       "        [75, 78, 81]]])"
      ]
     },
     "execution_count": 57,
     "metadata": {},
     "output_type": "execute_result"
    }
   ],
   "source": [
    "arr = np.arange(3,84,step=3).reshape(3,3,3)\n",
    "arr"
   ]
  },
  {
   "cell_type": "code",
   "execution_count": 62,
   "id": "4e89fae7",
   "metadata": {},
   "outputs": [],
   "source": [
    "# Finding the value of last limit by using fuctions\n",
    "# x = 3\n",
    "# s = 3\n",
    "# n = 27\n",
    "# y = (n*s)+x\n",
    "# y"
   ]
  },
  {
   "cell_type": "code",
   "execution_count": null,
   "id": "9d431e69",
   "metadata": {},
   "outputs": [],
   "source": []
  }
 ],
 "metadata": {
  "kernelspec": {
   "display_name": "Python 3",
   "language": "python",
   "name": "python3"
  },
  "language_info": {
   "codemirror_mode": {
    "name": "ipython",
    "version": 3
   },
   "file_extension": ".py",
   "mimetype": "text/x-python",
   "name": "python",
   "nbconvert_exporter": "python",
   "pygments_lexer": "ipython3",
   "version": "3.8.8"
  }
 },
 "nbformat": 4,
 "nbformat_minor": 5
}
